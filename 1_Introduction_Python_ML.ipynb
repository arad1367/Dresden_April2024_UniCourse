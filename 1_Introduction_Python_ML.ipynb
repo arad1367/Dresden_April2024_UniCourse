{
  "nbformat": 4,
  "nbformat_minor": 0,
  "metadata": {
    "colab": {
      "provenance": [],
      "authorship_tag": "ABX9TyMnqZ8GD0+1N83uWLuOqYOS",
      "include_colab_link": true
    },
    "kernelspec": {
      "name": "python3",
      "display_name": "Python 3"
    },
    "language_info": {
      "name": "python"
    }
  },
  "cells": [
    {
      "cell_type": "markdown",
      "metadata": {
        "id": "view-in-github",
        "colab_type": "text"
      },
      "source": [
        "<a href=\"https://colab.research.google.com/github/arad1367/Dresden_April2024_UniCourse/blob/main/1_Introduction_Python_ML.ipynb\" target=\"_parent\"><img src=\"https://colab.research.google.com/assets/colab-badge.svg\" alt=\"Open In Colab\"/></a>"
      ]
    },
    {
      "cell_type": "markdown",
      "source": [
        "### 1. Data types in Python (int, float, str, bool)"
      ],
      "metadata": {
        "id": "zAFSmgZ79cjP"
      }
    },
    {
      "cell_type": "code",
      "source": [
        "# int\n",
        "number = 9\n",
        "type(number)\n",
        "\n",
        "# float\n",
        "number = 10.3\n",
        "type(number)\n",
        "\n",
        "# string\n",
        "name = \"Hellooo this is Python course\"\n",
        "type(name)\n",
        "\n",
        "# bool  -> True & False\n",
        "name = True\n",
        "type(name)"
      ],
      "metadata": {
        "id": "hs15u8Ab-cTF",
        "colab": {
          "base_uri": "https://localhost:8080/"
        },
        "outputId": "6b965ea8-f58b-4711-9269-c13bbe872c43"
      },
      "execution_count": 9,
      "outputs": [
        {
          "output_type": "execute_result",
          "data": {
            "text/plain": [
              "bool"
            ]
          },
          "metadata": {},
          "execution_count": 9
        }
      ]
    },
    {
      "cell_type": "markdown",
      "source": [
        "### 2. Define Variable"
      ],
      "metadata": {
        "id": "Tkbr9dNy-Spv"
      }
    },
    {
      "cell_type": "code",
      "source": [
        "# How define a variable in Python\n",
        "age = 77\n",
        "age = 20\n",
        "age = 23\n",
        "\n",
        "name = \"Pejman\"\n",
        "\n",
        "education_level = \"Master\"\n",
        "\n",
        "is_continue = True\n",
        "\n",
        "score = 3.9\n",
        "\n",
        "\n",
        "# print\n",
        "print(age)"
      ],
      "metadata": {
        "id": "v2PNCvoO9rDP",
        "colab": {
          "base_uri": "https://localhost:8080/"
        },
        "outputId": "08e6b8f9-d67e-490c-91a5-9eb8dda5a139"
      },
      "execution_count": 16,
      "outputs": [
        {
          "output_type": "stream",
          "name": "stdout",
          "text": [
            "23\n"
          ]
        }
      ]
    },
    {
      "cell_type": "markdown",
      "source": [
        "### 2.1. Assign multiple variables"
      ],
      "metadata": {
        "id": "cvYhOgACExb_"
      }
    },
    {
      "cell_type": "code",
      "source": [
        "x, y, z = 10, 20, 33\n",
        "\n",
        "print(z, y, x)"
      ],
      "metadata": {
        "id": "UYmPk-d6E1OZ",
        "colab": {
          "base_uri": "https://localhost:8080/"
        },
        "outputId": "385332c3-5601-4fe6-a10c-1fb249b95fb9"
      },
      "execution_count": 15,
      "outputs": [
        {
          "output_type": "stream",
          "name": "stdout",
          "text": [
            "33 20 10\n"
          ]
        }
      ]
    },
    {
      "cell_type": "markdown",
      "source": [
        "### 2.2. Expressions & Statements"
      ],
      "metadata": {
        "id": "vEGgW8oJE2MD"
      }
    },
    {
      "cell_type": "code",
      "source": [
        "# Expression\n",
        "# Is a piece of code\n",
        "# Statement is whole of a line\n",
        "area = (5 + 10)"
      ],
      "metadata": {
        "id": "wc8QYzxxFBgS"
      },
      "execution_count": null,
      "outputs": []
    },
    {
      "cell_type": "markdown",
      "source": [
        "### 3. Constant"
      ],
      "metadata": {
        "id": "bRX-Yo2e_7gu"
      }
    },
    {
      "cell_type": "code",
      "source": [
        "PI = 3.14\n",
        "print(PI)"
      ],
      "metadata": {
        "id": "cQ7ZG3r7_-Z3",
        "colab": {
          "base_uri": "https://localhost:8080/"
        },
        "outputId": "1f952f6a-cf98-4c31-82e0-3c52f9e3b0fd"
      },
      "execution_count": 18,
      "outputs": [
        {
          "output_type": "stream",
          "name": "stdout",
          "text": [
            "3.14\n"
          ]
        }
      ]
    },
    {
      "cell_type": "markdown",
      "source": [
        "### 4. Input()"
      ],
      "metadata": {
        "id": "TudAi1FL_EJs"
      }
    },
    {
      "cell_type": "code",
      "source": [
        "# Define a simple input()\n",
        "# to make comment in google colab use Ctrl + /\n",
        "name = input(\"What is your name: \")\n",
        "print(name)\n",
        "\n",
        "# Ask age as a input()\n",
        "your_age = int(input(\"Your age please: \")) # the default input() is str\n",
        "print(type(your_age))"
      ],
      "metadata": {
        "id": "uZ1rev3P_DLo",
        "colab": {
          "base_uri": "https://localhost:8080/"
        },
        "outputId": "8a174ee7-4570-4b33-eedc-33e6d86dd77f"
      },
      "execution_count": 22,
      "outputs": [
        {
          "output_type": "stream",
          "name": "stdout",
          "text": [
            "Your age please: 25\n",
            "<class 'int'>\n"
          ]
        }
      ]
    },
    {
      "cell_type": "markdown",
      "source": [
        "### 5. Concatanating & formatted string"
      ],
      "metadata": {
        "id": "dqI_l_4Y-3kA"
      }
    },
    {
      "cell_type": "code",
      "source": [
        "# Concatanating -> str\n",
        "name = \"Sara\"\n",
        "family = \"Albert\"\n",
        "age = 20\n",
        "\n",
        "# print(name + \" \" + family + \" \" + str(age))\n",
        "\n",
        "# formatted string\n",
        "# My nmae is Mark Anderson. I'm 20 years old.\n",
        "# print(f\"My name is {name} {family}. I'm {age} years old.\")\n",
        "\n",
        "# Input something and print in a pretty way\n",
        "color = input(\"What is your popular color: \")\n",
        "print(f\"My favorite color is {color}\")"
      ],
      "metadata": {
        "id": "TNb_HGiC-2S-",
        "colab": {
          "base_uri": "https://localhost:8080/"
        },
        "outputId": "2ccc2525-ac11-4f77-9501-84f175eda469"
      },
      "execution_count": 30,
      "outputs": [
        {
          "output_type": "stream",
          "name": "stdout",
          "text": [
            "What is your popular color: Blue\n",
            "My favorite color is Blue\n"
          ]
        }
      ]
    },
    {
      "cell_type": "markdown",
      "source": [
        "### 6. Python operators"
      ],
      "metadata": {
        "id": "8gDDc1NT_WP2"
      }
    },
    {
      "cell_type": "code",
      "source": [
        "3 + 5\n",
        "\n",
        "6 - 3\n",
        "\n",
        "number1 = 12\n",
        "number2 = 5\n",
        "\n",
        "# multiplication\n",
        "number1 * number2\n",
        "\n",
        "# division\n",
        "12 / 5\n",
        "\n",
        "# division (complete number)\n",
        "12 // 5\n",
        "\n",
        "# To check residuals %\n",
        "21 % 5\n",
        "\n",
        "# priority of operators\n",
        "calculation = 3 + 3 + (2 * 2) * 2\n",
        "print(f\"The calculation result is: {calculation}\")\n",
        "\n",
        "# power  2 ** 3 = 8\n",
        "2 ** 3"
      ],
      "metadata": {
        "id": "PWypKpaC_ewT",
        "colab": {
          "base_uri": "https://localhost:8080/"
        },
        "outputId": "eb22c632-15e5-41d9-f6a7-dc167570abef"
      },
      "execution_count": 43,
      "outputs": [
        {
          "output_type": "stream",
          "name": "stdout",
          "text": [
            "The calculation result is: 14\n"
          ]
        },
        {
          "output_type": "execute_result",
          "data": {
            "text/plain": [
              "8"
            ]
          },
          "metadata": {},
          "execution_count": 43
        }
      ]
    },
    {
      "cell_type": "markdown",
      "source": [
        "### 6.1. Augmented assignment operator (a += b)"
      ],
      "metadata": {
        "id": "d6gGXbxgFKqy"
      }
    },
    {
      "cell_type": "code",
      "source": [
        "a = 10\n",
        "# a = a + 10 # a += value\n",
        "a += 10  # a -= 10   a *= 10 a /= 10\n",
        "print(f\"Updated a: {a}\")"
      ],
      "metadata": {
        "id": "O6mYHQpqFRbu",
        "colab": {
          "base_uri": "https://localhost:8080/"
        },
        "outputId": "e11f325c-7630-40e8-c73e-6a68193e12cf"
      },
      "execution_count": 41,
      "outputs": [
        {
          "output_type": "stream",
          "name": "stdout",
          "text": [
            "Updated a: 20\n"
          ]
        }
      ]
    },
    {
      "cell_type": "markdown",
      "source": [
        "### Exercise 1: calculates the area of a rectangle based on user input for length and width.\n",
        "\n",
        "# email : pejman.ebrahimi77@gmail.com"
      ],
      "metadata": {
        "id": "tTasIpjNB3GY"
      }
    },
    {
      "cell_type": "code",
      "source": [
        "# 1. please print this program try ...\n",
        "\n",
        "# 2. two inputs to get your variables\n",
        "\n",
        "# 3. define a new variable 'area'\n",
        "\n",
        "# 4. print in a pretty way your area"
      ],
      "metadata": {
        "id": "00R7VxVeB5w-"
      },
      "execution_count": 42,
      "outputs": []
    },
    {
      "cell_type": "code",
      "source": [
        "# title of program\n",
        "print(\"Try to print a name\")\n",
        "print(\"-------------------\")\n",
        "\n",
        "# ask country name\n",
        "country_name = input(\"Please tell me where are you from? \")\n",
        "\n",
        "# Print version\n",
        "print(f\"I come from {country_name}.\")"
      ],
      "metadata": {
        "colab": {
          "base_uri": "https://localhost:8080/"
        },
        "id": "H2NHsrEjeqxs",
        "outputId": "c0953546-9589-4b24-d560-11046f0c9f3e"
      },
      "execution_count": 46,
      "outputs": [
        {
          "output_type": "stream",
          "name": "stdout",
          "text": [
            "Try to print a name\n",
            "-------------------\n",
            "Please tell me where are you from? Budapest\n",
            "I come from Budapest.\n"
          ]
        }
      ]
    },
    {
      "cell_type": "code",
      "source": [],
      "metadata": {
        "id": "9j8heIJNfWLm"
      },
      "execution_count": null,
      "outputs": []
    }
  ]
}