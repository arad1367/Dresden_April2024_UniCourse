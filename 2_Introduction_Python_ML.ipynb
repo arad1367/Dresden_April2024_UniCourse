{
  "nbformat": 4,
  "nbformat_minor": 0,
  "metadata": {
    "colab": {
      "provenance": [],
      "authorship_tag": "ABX9TyNIglkak0aqCtciAqTUbXNc",
      "include_colab_link": true
    },
    "kernelspec": {
      "name": "python3",
      "display_name": "Python 3"
    },
    "language_info": {
      "name": "python"
    }
  },
  "cells": [
    {
      "cell_type": "markdown",
      "metadata": {
        "id": "view-in-github",
        "colab_type": "text"
      },
      "source": [
        "<a href=\"https://colab.research.google.com/github/arad1367/Dresden_April2024_UniCourse/blob/main/2_Introduction_Python_ML.ipynb\" target=\"_parent\"><img src=\"https://colab.research.google.com/assets/colab-badge.svg\" alt=\"Open In Colab\"/></a>"
      ]
    },
    {
      "cell_type": "markdown",
      "source": [
        "### Data Structures in Python\n",
        "> The basic Python data structures in Python include `list`, `set`, `tuples`, and `dictionary`. Each of the data structures is unique in its own way. Data structures are `“containers”` that organize and group data according to type."
      ],
      "metadata": {
        "id": "X91zxt9cO4zT"
      }
    },
    {
      "cell_type": "markdown",
      "source": [
        "### 1. Python Lists\n",
        "> In Python, a list is a data structure used to store a collection of items in a specific order. Lists are similar to arrays in other programming languages, but they are more flexible and can store items of different data types. Lists are defined using square brackets [ ].\n",
        "\n",
        "* Lists are mutable"
      ],
      "metadata": {
        "id": "8I8XorLTrAaq"
      }
    },
    {
      "cell_type": "markdown",
      "source": [
        "1.1. Define a list"
      ],
      "metadata": {
        "id": "Ud3PKz2QsPmN"
      }
    },
    {
      "cell_type": "code",
      "execution_count": 5,
      "metadata": {
        "id": "_NQg4aivq6nH",
        "colab": {
          "base_uri": "https://localhost:8080/"
        },
        "outputId": "261c31fe-28eb-43f8-c499-72ed726e4e12"
      },
      "outputs": [
        {
          "output_type": "execute_result",
          "data": {
            "text/plain": [
              "[100, 200, 300]"
            ]
          },
          "metadata": {},
          "execution_count": 5
        }
      ],
      "source": [
        "my_list = [1, 3, 5, \"Pejman\", True, [], [100, 200, 300]] # 7 members - indexing start from 0 to end ...\n",
        "my_list\n",
        "\n",
        "# indexing\n",
        "\n",
        "# Access to a member of our list --> [index]\n",
        "my_list[0]   # index 0 is my first member of list\n",
        "my_list[6]\n",
        "# my_list[10] # It has IndexError"
      ]
    },
    {
      "cell_type": "markdown",
      "source": [
        "1.2. List slicing"
      ],
      "metadata": {
        "id": "rV3dR0qKsSax"
      }
    },
    {
      "cell_type": "code",
      "source": [
        "# How to interact wit a list\n",
        "numbers_list = [10, 20, 30, 40, 50, 70, 100]\n",
        "\n",
        "# [start:stop:step]\n",
        "\n",
        "# Access to whole list\n",
        "numbers_list[:]\n",
        "\n",
        "# Access a part of your list\n",
        "numbers_list[0:4]\n",
        "\n",
        "# Access with some step\n",
        "numbers_list[::2]\n",
        "\n",
        "# reverse a list\n",
        "numbers_list[::-1]"
      ],
      "metadata": {
        "id": "CFJjshT2sV78",
        "colab": {
          "base_uri": "https://localhost:8080/"
        },
        "outputId": "f610073b-b6d0-4da8-811e-922fb6cba8cd"
      },
      "execution_count": 10,
      "outputs": [
        {
          "output_type": "execute_result",
          "data": {
            "text/plain": [
              "[100, 70, 50, 40, 30, 20, 10]"
            ]
          },
          "metadata": {},
          "execution_count": 10
        }
      ]
    },
    {
      "cell_type": "markdown",
      "source": [
        "1.3. List methods\n",
        "* https://www.w3schools.com/python/python_ref_list.asp"
      ],
      "metadata": {
        "id": "uf6ydEwisllL"
      }
    },
    {
      "cell_type": "code",
      "source": [
        "num_list = [100, 200, 1000, 100, 100]\n",
        "\n",
        "# Append()\n",
        "# num_list.append(1)\n",
        "# num_list\n",
        "\n",
        "# lists are mutable\n",
        "# num_list[0] = 7\n",
        "# num_list\n",
        "\n",
        "# count()\n",
        "# num_list.count(100)\n",
        "\n",
        "# pop\n",
        "# selected_member = num_list.pop()\n",
        "# print(f\"My updated list: {num_list} --- my selected member is: {selected_member}\")\n",
        "\n",
        "# remove\n",
        "# num_list.remove(1000)\n",
        "# num_list\n",
        "\n",
        "# reverse\n",
        "# num_list.reverse()\n",
        "# num_list\n",
        "\n",
        "# sort()\n",
        "new_list = [9, 7, 1, -6, -1000, 10]\n",
        "# new_list.sort()\n",
        "# new_list\n",
        "\n",
        "# sorted(list)\n",
        "# sorted(new_list)\n",
        "\n",
        "# len()\n",
        "# len(new_list)\n",
        "\n",
        "new_list.pop()\n",
        "new_list.pop(0)\n",
        "new_list"
      ],
      "metadata": {
        "id": "Hvhd6E8csnv0",
        "colab": {
          "base_uri": "https://localhost:8080/"
        },
        "outputId": "5796ab0d-798b-4b4c-b373-c3c1c2694c68"
      },
      "execution_count": 25,
      "outputs": [
        {
          "output_type": "execute_result",
          "data": {
            "text/plain": [
              "[7, 1, -6, -1000]"
            ]
          },
          "metadata": {},
          "execution_count": 25
        }
      ]
    },
    {
      "cell_type": "markdown",
      "source": [
        "### 2. Python Dictionaries\n",
        "\n",
        "> A dictionary is a built-in data structure in Python that allows you to store items as key-value pairs. It's an ordered collection of elements where each element is identified with a unique key."
      ],
      "metadata": {
        "id": "YqQ8OZtUtu8-"
      }
    },
    {
      "cell_type": "markdown",
      "source": [
        "2.1. Define a dictionary , dictionary.keys(), dictionary.values()"
      ],
      "metadata": {
        "id": "g9TM1xmGt7t4"
      }
    },
    {
      "cell_type": "code",
      "source": [
        "# define a simple dictionary\n",
        "my_dictionary = {\n",
        "    \"key1\": 10,\n",
        "    \"key2\": True,\n",
        "    \"Key3\": [1, 1, 2, 500, [0, 1, 333]],\n",
        "    \"Key4\": \"Germany\"\n",
        "}\n",
        "\n",
        "my_dictionary\n",
        "\n",
        "# Interact with dictionary\n",
        "# Access to keys\n",
        "# my_dictionary.keys()\n",
        "\n",
        "# Access to values\n",
        "# my_dictionary.values()\n",
        "\n",
        "# Access to special member ---> 333\n",
        "# my_dictionary[\"Key3\"][4][2]\n",
        "\n",
        "# items()  --- in loop section\n",
        "# iterate on dictionary\n",
        "for key, value in my_dictionary.items():\n",
        "  print(f\"Key: {key}    -----     value: {value}\")"
      ],
      "metadata": {
        "id": "BlXc2HGHt9tw",
        "colab": {
          "base_uri": "https://localhost:8080/"
        },
        "outputId": "ac49aeae-d1ef-4440-8587-4117d0c10694"
      },
      "execution_count": 66,
      "outputs": [
        {
          "output_type": "stream",
          "name": "stdout",
          "text": [
            "Key: key1    -----     value: 10\n",
            "Key: key2    -----     value: True\n",
            "Key: Key3    -----     value: [1, 1, 2, 500, [0, 1, 333]]\n",
            "Key: Key4    -----     value: Germany\n"
          ]
        }
      ]
    },
    {
      "cell_type": "markdown",
      "source": [
        "2.2. A list of dictionary"
      ],
      "metadata": {
        "id": "FEBVu8uzuD8c"
      }
    },
    {
      "cell_type": "code",
      "source": [
        "list_of_dixtionary = [\n",
        "    {\n",
        "        \"Name\": \"Rob\",\n",
        "        \"Age\": 19\n",
        "    },\n",
        "    {\n",
        "        \"Name\": \"Sara\",\n",
        "        \"Age\": 23\n",
        "    }\n",
        "]\n",
        "\n",
        "# To access the age of Sara ---- > 23\n",
        "list_of_dixtionary[1]['Age']"
      ],
      "metadata": {
        "id": "_6NCQkgyuGF_",
        "colab": {
          "base_uri": "https://localhost:8080/"
        },
        "outputId": "628e5b4f-4959-4b60-a51c-5a77ead152ae"
      },
      "execution_count": 38,
      "outputs": [
        {
          "output_type": "execute_result",
          "data": {
            "text/plain": [
              "23"
            ]
          },
          "metadata": {},
          "execution_count": 38
        }
      ]
    },
    {
      "cell_type": "markdown",
      "source": [
        "### 3. Python Tuples\n",
        "\n",
        "> In Python, a tuple is a collection of ordered, immutable elements. It is similar to a list, but once a tuple is created, its elements cannot be changed."
      ],
      "metadata": {
        "id": "YbmthPUKubih"
      }
    },
    {
      "cell_type": "code",
      "source": [
        "# define a tuple\n",
        "my_tuple = (1, 1, 10, 20, 20)\n",
        "\n",
        "# tuple is immutable\n",
        "# my_tuple[0] = 1000\n",
        "my_tuple[0:2]"
      ],
      "metadata": {
        "id": "YoPqfx_4ukPS",
        "colab": {
          "base_uri": "https://localhost:8080/"
        },
        "outputId": "7fa87539-43fb-4b57-ed36-17b0de932915"
      },
      "execution_count": 41,
      "outputs": [
        {
          "output_type": "execute_result",
          "data": {
            "text/plain": [
              "(1, 1)"
            ]
          },
          "metadata": {},
          "execution_count": 41
        }
      ]
    },
    {
      "cell_type": "markdown",
      "source": [
        "### 4. Python Sets\n",
        "\n",
        "> In Python, a set is a data structure used to store unique values."
      ],
      "metadata": {
        "id": "QyZlA5rxutcr"
      }
    },
    {
      "cell_type": "markdown",
      "source": [
        "4.1. Define a set"
      ],
      "metadata": {
        "id": "aWunP7GCu224"
      }
    },
    {
      "cell_type": "code",
      "source": [
        "my_set = {1, 1, 1, 1, 1, 1, 7}\n",
        "my_set"
      ],
      "metadata": {
        "id": "jZc94Na2u4od",
        "colab": {
          "base_uri": "https://localhost:8080/"
        },
        "outputId": "af02736e-e538-49d7-ab8a-937469ffcc9c"
      },
      "execution_count": 42,
      "outputs": [
        {
          "output_type": "execute_result",
          "data": {
            "text/plain": [
              "{1, 7}"
            ]
          },
          "metadata": {},
          "execution_count": 42
        }
      ]
    },
    {
      "cell_type": "markdown",
      "source": [
        "> 4.2. Exercise 1: Return unique values\n",
        "* easy solution : Set\n",
        "* a little challenging with list methods\n",
        "\n",
        "* `my_list = [7, 100, 1, 1, 1, 2, 3, 4, 5, 5, 5]`\n",
        "* `output = [1, 2, 3, 4, 5, 7, 100]`"
      ],
      "metadata": {
        "id": "uIbzJP3jvQ3B"
      }
    },
    {
      "cell_type": "markdown",
      "source": [
        "### 5. Conditional logic\n",
        "* if, elif, else   ||  and, or, not  "
      ],
      "metadata": {
        "id": "DsilDeD0wT1W"
      }
    },
    {
      "cell_type": "code",
      "source": [
        "# and, or, not\n",
        "True and False\n",
        "False and False\n",
        "\n",
        "True or False\n",
        "\n",
        "not True\n",
        "\n",
        "\n",
        "# conditional statement\n",
        "age = int(input(\"How old are you? \"))\n",
        "\n",
        "if age < 18:\n",
        "  print(f\"You are {age} years old. Not eligible\")\n",
        "elif 18 <= age < 25:\n",
        "  print(f\"You are {age} years old. eligible with condition\")\n",
        "elif 25 <= age < 30:\n",
        "  print(f\"You are {age} years old. eligible person\")\n",
        "else:\n",
        "  print(\"Out of range for this service\")"
      ],
      "metadata": {
        "id": "3uFGPQVXvfBZ",
        "colab": {
          "base_uri": "https://localhost:8080/"
        },
        "outputId": "9c3001e2-e30e-4dfe-e932-ac18ce04eff8"
      },
      "execution_count": 50,
      "outputs": [
        {
          "output_type": "stream",
          "name": "stdout",
          "text": [
            "How old are you? 20\n",
            "You are 20 years old. eligible with condition\n"
          ]
        }
      ]
    },
    {
      "cell_type": "markdown",
      "source": [
        "### 6. for loop\n",
        "\n",
        "- Use a `for` loop when:\n",
        "\n",
        "* You know the exact number of iterations beforehand or you want to iterate over a collection of items such as lists, tuples, dictionaries, etc.\n",
        "* You want to execute a block of code for each item in a sequence.\n",
        "* You are not modifying the sequence you are iterating over during the loop.\n",
        "* You want to iterate through a sequence until it is exhausted."
      ],
      "metadata": {
        "id": "1FA83XJfwv8k"
      }
    },
    {
      "cell_type": "code",
      "source": [
        "# define a simple for loop\n",
        "# for num in range(1, 11):  # range(start, stop, step)  --- # range last member - 1\n",
        "  # print(num)\n",
        "\n",
        "# iteration on the list\n",
        "# numbers_list = [100, 1000, 2000, 3]\n",
        "# for number in numbers_list:\n",
        "#   print(number)\n",
        "\n",
        "# iteration on a list - stylish iteration\n",
        "counter = 1\n",
        "for i in range(1, 6):\n",
        "  print(f\"{counter}.{i}\")\n",
        "  counter += 1 # counter = counter + 1"
      ],
      "metadata": {
        "id": "ZdMekms7wylD",
        "colab": {
          "base_uri": "https://localhost:8080/"
        },
        "outputId": "729e30f8-c1fe-4cb1-8030-d452b445aafb"
      },
      "execution_count": 56,
      "outputs": [
        {
          "output_type": "stream",
          "name": "stdout",
          "text": [
            "1.1\n",
            "2.2\n",
            "3.3\n",
            "4.4\n",
            "5.5\n"
          ]
        }
      ]
    },
    {
      "cell_type": "markdown",
      "source": [
        "> 6.1. Exercise 2: BMI calculator\n",
        "\n",
        "* Assume you have a list of individuals, where each individual is represented as a tuple containing their name, weight in kilograms, and height in meters.\n",
        "\n",
        "\n",
        "- BMI = weights / height ** 2\n",
        "- Categorize each individual based on their BMI:\n",
        "  * BMI < 18.5: Underweight\n",
        "  * 18.5 ≤ BMI < 25: Normal weight\n",
        "  * 25 ≤ BMI < 30: Overweight\n",
        "  * BMI ≥ 30: Obese\n",
        "- Print out each individual's name, BMI, and weight category in a `dictionary format`.\n",
        "\n"
      ],
      "metadata": {
        "id": "KeA5r2cvKYsE"
      }
    },
    {
      "cell_type": "code",
      "source": [
        "my_BMI = [\n",
        "    (\"Jack\", 80, 1.80),\n",
        "    (\"Sofia\", 55, 1.72),\n",
        "    (\"Bob\", 100, 1.79),\n",
        "    (\"Elina\", 69, 1.59)\n",
        "]\n",
        "\n"
      ],
      "metadata": {
        "id": "xddXXmBbK-Ho"
      },
      "execution_count": 58,
      "outputs": []
    },
    {
      "cell_type": "markdown",
      "source": [
        "### 7. while loop\n",
        "\n",
        "- Use a `while` loop when:\n",
        "\n",
        "* You don't know the exact number of iterations beforehand or you want to continue iterating until a certain condition is met.\n",
        "* You want to keep iterating as long as a condition is True.\n",
        "* You need more control over the loop condition, such as checking multiple conditions within the loop.\n",
        "* You might be modifying the variables involved in the loop condition within the loop."
      ],
      "metadata": {
        "id": "c08qgN9Wwzom"
      }
    },
    {
      "cell_type": "code",
      "source": [
        "is_continue = True\n",
        "\n",
        "# define a while loop\n",
        "while_counter = 0\n",
        "\n",
        "while is_continue:\n",
        "  keyword = input(\"Please say a keyword: \")\n",
        "\n",
        "  # conditional statement\n",
        "  if keyword == \"Exit\" or keyword == \"exit\" or keyword == \"x\":\n",
        "    break\n",
        "    # is_continue = False\n",
        "  else:\n",
        "    print(f\"Your keyword: {keyword}, is a magical keyword\")\n",
        "\n",
        "  # counter\n",
        "  while_counter += 1\n",
        "\n",
        "print(f\"How many times my while loop is executed? {while_counter}\")"
      ],
      "metadata": {
        "id": "KuYaJ7AKw2Cy",
        "colab": {
          "base_uri": "https://localhost:8080/"
        },
        "outputId": "5d5c76fa-f9b1-46d6-b7a7-04382e76218a"
      },
      "execution_count": 60,
      "outputs": [
        {
          "output_type": "stream",
          "name": "stdout",
          "text": [
            "Please say a keyword: Pejman\n",
            "Your keyword: Pejman, is a magical keyword\n",
            "Please say a keyword: Python\n",
            "Your keyword: Python, is a magical keyword\n",
            "Please say a keyword: LLM\n",
            "Your keyword: LLM, is a magical keyword\n",
            "Please say a keyword: Study\n",
            "Your keyword: Study, is a magical keyword\n",
            "Please say a keyword: x\n",
            "How many times my while loop is executed? 4\n"
          ]
        }
      ]
    },
    {
      "cell_type": "code",
      "source": [
        "# Find odd numbers inside of a list\n",
        "\n",
        "list2 = [1, 2, 3, 4, 5, 6, 7, 8, 9, 10]\n",
        "\n",
        "for num in list2:\n",
        "  if num % 2 != 0:\n",
        "    print(num)"
      ],
      "metadata": {
        "colab": {
          "base_uri": "https://localhost:8080/"
        },
        "id": "qOOQjAJxj6GW",
        "outputId": "649085a0-5ed1-41c4-981b-42fd7d917159"
      },
      "execution_count": 62,
      "outputs": [
        {
          "output_type": "stream",
          "name": "stdout",
          "text": [
            "1\n",
            "3\n",
            "5\n",
            "7\n",
            "9\n"
          ]
        }
      ]
    },
    {
      "cell_type": "markdown",
      "source": [
        "### interesting module: tqdm"
      ],
      "metadata": {
        "id": "KylOCV8hxFui"
      }
    },
    {
      "cell_type": "code",
      "source": [
        "from tqdm import tqdm\n",
        "import time\n",
        "\n",
        "start_time = time.time()\n",
        "for i in tqdm(range(10)):\n",
        "  time.sleep(1)\n",
        "  print(i)\n",
        "end_time = time.time()\n",
        "\n",
        "print(f\"Time of process of program: {end_time - start_time}s\")"
      ],
      "metadata": {
        "id": "v-SkJ536xLam",
        "colab": {
          "base_uri": "https://localhost:8080/"
        },
        "outputId": "9509aa7d-247f-41da-d64b-ada94b8f364c"
      },
      "execution_count": 65,
      "outputs": [
        {
          "output_type": "stream",
          "name": "stderr",
          "text": [
            " 10%|█         | 1/10 [00:01<00:09,  1.00s/it]"
          ]
        },
        {
          "output_type": "stream",
          "name": "stdout",
          "text": [
            "0\n"
          ]
        },
        {
          "output_type": "stream",
          "name": "stderr",
          "text": [
            "\r 20%|██        | 2/10 [00:02<00:08,  1.00s/it]"
          ]
        },
        {
          "output_type": "stream",
          "name": "stdout",
          "text": [
            "1\n"
          ]
        },
        {
          "output_type": "stream",
          "name": "stderr",
          "text": [
            "\r 30%|███       | 3/10 [00:03<00:07,  1.00s/it]"
          ]
        },
        {
          "output_type": "stream",
          "name": "stdout",
          "text": [
            "2\n"
          ]
        },
        {
          "output_type": "stream",
          "name": "stderr",
          "text": [
            "\r 40%|████      | 4/10 [00:04<00:06,  1.00s/it]"
          ]
        },
        {
          "output_type": "stream",
          "name": "stdout",
          "text": [
            "3\n"
          ]
        },
        {
          "output_type": "stream",
          "name": "stderr",
          "text": [
            "\r 50%|█████     | 5/10 [00:05<00:05,  1.00s/it]"
          ]
        },
        {
          "output_type": "stream",
          "name": "stdout",
          "text": [
            "4\n"
          ]
        },
        {
          "output_type": "stream",
          "name": "stderr",
          "text": [
            "\r 60%|██████    | 6/10 [00:06<00:04,  1.00s/it]"
          ]
        },
        {
          "output_type": "stream",
          "name": "stdout",
          "text": [
            "5\n"
          ]
        },
        {
          "output_type": "stream",
          "name": "stderr",
          "text": [
            "\r 70%|███████   | 7/10 [00:07<00:03,  1.00s/it]"
          ]
        },
        {
          "output_type": "stream",
          "name": "stdout",
          "text": [
            "6\n"
          ]
        },
        {
          "output_type": "stream",
          "name": "stderr",
          "text": [
            "\r 80%|████████  | 8/10 [00:08<00:02,  1.00s/it]"
          ]
        },
        {
          "output_type": "stream",
          "name": "stdout",
          "text": [
            "7\n"
          ]
        },
        {
          "output_type": "stream",
          "name": "stderr",
          "text": [
            "\r 90%|█████████ | 9/10 [00:09<00:01,  1.00s/it]"
          ]
        },
        {
          "output_type": "stream",
          "name": "stdout",
          "text": [
            "8\n"
          ]
        },
        {
          "output_type": "stream",
          "name": "stderr",
          "text": [
            "100%|██████████| 10/10 [00:10<00:00,  1.00s/it]"
          ]
        },
        {
          "output_type": "stream",
          "name": "stdout",
          "text": [
            "9\n",
            "Time of process of program: 10.034436225891113s\n"
          ]
        },
        {
          "output_type": "stream",
          "name": "stderr",
          "text": [
            "\n"
          ]
        }
      ]
    },
    {
      "cell_type": "markdown",
      "source": [
        "### Email\n",
        "* `pejman.ebrahimi77@gmail.com`\n",
        "* `info@giltech-support.co.uk`"
      ],
      "metadata": {
        "id": "gB-PLOCPPKWr"
      }
    }
  ]
}