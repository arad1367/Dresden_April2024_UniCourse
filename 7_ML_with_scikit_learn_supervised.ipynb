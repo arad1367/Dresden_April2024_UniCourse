{
  "cells": [
    {
      "cell_type": "markdown",
      "metadata": {
        "id": "view-in-github",
        "colab_type": "text"
      },
      "source": [
        "<a href=\"https://colab.research.google.com/github/arad1367/Dresden_April2024_UniCourse/blob/main/7_ML_with_scikit_learn_supervised.ipynb\" target=\"_parent\"><img src=\"https://colab.research.google.com/assets/colab-badge.svg\" alt=\"Open In Colab\"/></a>"
      ]
    },
    {
      "cell_type": "markdown",
      "metadata": {
        "id": "6vNoWhW1NDUp"
      },
      "source": [
        "### Machine learning with scikit-learn (`Supervised learning`: `Regression` and `Classification`)\n",
        "Steps:\n",
        "\n",
        "* Data\n",
        "* Preprocessing (missing values, string data, ...)\n",
        "* Define dependend variable(target) and independent variables(features)\n",
        "* Split data(train dataset, validation dataset, test dataset)\n",
        "* Make the model\n",
        "* Fit the model\n",
        "* Make some prediction\n",
        "* Accuracy of the model & metrics\n",
        "* Improvement the model(hyperparameters tuning)\n",
        "\n",
        "* Select best estimator: https://scikit-learn.org/stable/tutorial/machine_learning_map/"
      ]
    },
    {
      "cell_type": "code",
      "execution_count": 10,
      "metadata": {
        "id": "Y2VrzqpyMuWA"
      },
      "outputs": [],
      "source": [
        "# import necessary libraries\n",
        "import pandas as pd\n",
        "import numpy as np\n",
        "import matplotlib.pyplot as plt\n",
        "\n",
        "# Models for Regression\n",
        "from sklearn.ensemble import RandomForestRegressor\n",
        "from sklearn.svm import SVR\n",
        "\n",
        "# Models for classification\n",
        "from sklearn.ensemble import RandomForestClassifier\n",
        "from sklearn.neighbors import KNeighborsClassifier\n",
        "\n",
        "# other libraries\n",
        "from sklearn.model_selection import train_test_split\n",
        "\n",
        "# Metrics\n",
        "from sklearn.metrics import r2_score, mean_absolute_error, mean_squared_error\n",
        "from sklearn.metrics import classification_report, accuracy_score, confusion_matrix\n",
        "\n",
        "# Datasets from scikit-learn\n",
        "from sklearn.datasets import load_wine"
      ]
    },
    {
      "cell_type": "markdown",
      "metadata": {
        "id": "_3TzD_27Nqtx"
      },
      "source": [
        "### 1. Supervised learning: Regression\n",
        "\n",
        "* Regression is a supervised machine learning technique which is used to predict continuous values"
      ]
    },
    {
      "cell_type": "code",
      "execution_count": null,
      "metadata": {
        "colab": {
          "base_uri": "https://localhost:8080/"
        },
        "id": "mwfUA0hpNwxd",
        "outputId": "fac2c26b-5154-45a6-e01c-e522572145c8"
      },
      "outputs": [
        {
          "name": "stdout",
          "output_type": "stream",
          "text": [
            "<class 'pandas.core.frame.DataFrame'>\n",
            "RangeIndex: 506 entries, 0 to 505\n",
            "Data columns (total 14 columns):\n",
            " #   Column   Non-Null Count  Dtype  \n",
            "---  ------   --------------  -----  \n",
            " 0   CRIM     506 non-null    float64\n",
            " 1   ZN       506 non-null    float64\n",
            " 2   INDUS    506 non-null    float64\n",
            " 3   CHAS     506 non-null    int64  \n",
            " 4   NOX      506 non-null    float64\n",
            " 5   RM       506 non-null    float64\n",
            " 6   AGE      506 non-null    float64\n",
            " 7   DIS      506 non-null    float64\n",
            " 8   RAD      506 non-null    int64  \n",
            " 9   TAX      506 non-null    float64\n",
            " 10  PTRATIO  506 non-null    float64\n",
            " 11  B        506 non-null    float64\n",
            " 12  LSTAT    506 non-null    float64\n",
            " 13  MEDV     506 non-null    float64\n",
            "dtypes: float64(12), int64(2)\n",
            "memory usage: 55.5 KB\n"
          ]
        },
        {
          "data": {
            "text/plain": [
              "CRIM       0\n",
              "ZN         0\n",
              "INDUS      0\n",
              "CHAS       0\n",
              "NOX        0\n",
              "RM         0\n",
              "AGE        0\n",
              "DIS        0\n",
              "RAD        0\n",
              "TAX        0\n",
              "PTRATIO    0\n",
              "B          0\n",
              "LSTAT      0\n",
              "MEDV       0\n",
              "dtype: int64"
            ]
          },
          "execution_count": 6,
          "metadata": {},
          "output_type": "execute_result"
        }
      ],
      "source": [
        "# 1. Data\n",
        "data_path = \"/content/boston.csv\"\n",
        "df = pd.read_csv(data_path)\n",
        "df.head(10)\n",
        "\n",
        "# Explore data\n",
        "df.info()\n",
        "df.describe()\n",
        "\n",
        "# 2. data preprocessing\n",
        "# missing values\n",
        "df.isna().sum()"
      ]
    },
    {
      "cell_type": "code",
      "execution_count": null,
      "metadata": {
        "colab": {
          "base_uri": "https://localhost:8080/"
        },
        "id": "D0ROMTQGlkQy",
        "outputId": "a00cb230-124e-4c48-f54f-9a3097a3c38c"
      },
      "outputs": [
        {
          "name": "stdout",
          "output_type": "stream",
          "text": [
            "The accuracy of RFR model is: 88.24% -- The accuracy of SVR model is: 27.95%\n"
          ]
        }
      ],
      "source": [
        "# 1. Data is ready\n",
        "\n",
        "# 2. Preprocessing is done\n",
        "\n",
        "# 3. Make X (features) and y (label)\n",
        "X = df.drop(\"MEDV\", axis=1)\n",
        "y = df[\"MEDV\"]\n",
        "\n",
        "# 4. Split the data\n",
        "X_train, X_test, y_train, y_test = train_test_split(X,\n",
        "                                                    y,\n",
        "                                                    test_size=0.2,\n",
        "                                                    random_state=42)\n",
        "(len(X_train) == len(y_train)) & (len(X_test) == len(y_test))\n",
        "len(X_train), len(y_train)\n",
        "\n",
        "# 5. Make the model for regression purpose\n",
        "models = {\n",
        "    \"RFR\" : RandomForestRegressor(),\n",
        "    \"SVR\" : SVR()\n",
        "}\n",
        "\n",
        "RFR_model = models[\"RFR\"]\n",
        "SVR_model = models[\"SVR\"]\n",
        "\n",
        "# 6. Fit our regression models with train data\n",
        "RFR_model.fit(X_train, y_train)\n",
        "SVR_model.fit(X_train, y_train)\n",
        "\n",
        "# 7. Make some prediction\n",
        "y_pred_rfr = RFR_model.predict(X_test)\n",
        "y_pred_svr = SVR_model.predict(X_test)\n",
        "\n",
        "# 8. Accuracy of regression models --> R2\n",
        "RFR_score = RFR_model.score(X_test, y_test)\n",
        "SVR_score = SVR_model.score(X_test, y_test)\n",
        "print(f\"The accuracy of RFR model is: {RFR_score*100:0.2f}% -- The accuracy of SVR model is: {SVR_score*100:0.2f}%\")"
      ]
    },
    {
      "cell_type": "code",
      "execution_count": null,
      "metadata": {
        "id": "VMI2OQ4HvOQa"
      },
      "outputs": [],
      "source": [
        "# Make a function to check accuracy of regression models\n",
        "def accuracy_of_reg_model(y_pred, y_true):\n",
        "  \"\"\"\n",
        "  This model can evaluate the accuracy of regression models.\n",
        "  Our criteria: r2_score, mae, mse\n",
        "  \"\"\"\n",
        "  acc = {}\n",
        "  acc[\"r2_score\"] = round(r2_score(y_pred, y_true), 2)\n",
        "  acc[\"mae\"] = round(mean_absolute_error(y_pred, y_true), 2)\n",
        "  acc[\"mse\"] = round(mean_squared_error(y_pred, y_true), 2)\n",
        "  return acc"
      ]
    },
    {
      "cell_type": "code",
      "execution_count": null,
      "metadata": {
        "colab": {
          "base_uri": "https://localhost:8080/"
        },
        "id": "rHQ5Y68_0CrH",
        "outputId": "40165b45-85c9-4cab-8316-bd1dfca5ab57"
      },
      "outputs": [
        {
          "data": {
            "text/plain": [
              "{'r2_score': 0.86, 'mae': 2.07, 'mse': 8.63}"
            ]
          },
          "execution_count": 29,
          "metadata": {},
          "output_type": "execute_result"
        }
      ],
      "source": [
        "accuracy_of_reg_model(y_pred=y_pred_rfr,\n",
        "                      y_true=y_test)\n"
      ]
    },
    {
      "cell_type": "markdown",
      "metadata": {
        "id": "f6B-zDZL01wl"
      },
      "source": [
        "### Project: Write a function --> parameters are X, y, Model_name\n",
        "* Function must return acc of model for r2, mse, mae"
      ]
    },
    {
      "cell_type": "markdown",
      "metadata": {
        "id": "AAgGQcAg1zy1"
      },
      "source": [
        "### Improvement the model(hyperparameters tuning)"
      ]
    },
    {
      "cell_type": "code",
      "execution_count": null,
      "metadata": {
        "colab": {
          "base_uri": "https://localhost:8080/"
        },
        "id": "8Haclt4I0LaL",
        "outputId": "a551a9ad-a260-4cc0-a170-0f3f96663171"
      },
      "outputs": [
        {
          "name": "stdout",
          "output_type": "stream",
          "text": [
            "Kernel = linear --- accuracy: 59.86\n",
            "Kernel = poly --- accuracy: 27.06\n",
            "Kernel = rbf --- accuracy: 27.95\n",
            "Kernel = sigmoid --- accuracy: 7.76\n"
          ]
        }
      ],
      "source": [
        "kernel_list = [\"linear\", \"poly\", \"rbf\", \"sigmoid\"]\n",
        "\n",
        "for parameter in kernel_list:\n",
        "  svr_model = SVR(kernel=parameter)\n",
        "  svr_model.fit(X_train, y_train)\n",
        "  prediction = svr_model.predict(X_test)\n",
        "  score = svr_model.score(X_test, y_test)\n",
        "  print(f\"Kernel = {parameter} --- accuracy: {score*100:0.2f}\")"
      ]
    },
    {
      "cell_type": "markdown",
      "metadata": {
        "id": "xr3VrDsy6Mhi"
      },
      "source": [
        "### 2. Supervised learning: Classification\n",
        "* Classification is a branch of supervised learning, a type of machine learning algorithm that involves training a model on labeled data to identify and categorize new input data into one or more predefined classes."
      ]
    },
    {
      "cell_type": "code",
      "execution_count": 2,
      "metadata": {
        "colab": {
          "base_uri": "https://localhost:8080/"
        },
        "id": "rsCMMaCm19W3",
        "outputId": "860f0768-97e4-4379-abc6-1ecb3c8a9aa2"
      },
      "outputs": [
        {
          "output_type": "execute_result",
          "data": {
            "text/plain": [
              "{'data': array([[1.423e+01, 1.710e+00, 2.430e+00, ..., 1.040e+00, 3.920e+00,\n",
              "         1.065e+03],\n",
              "        [1.320e+01, 1.780e+00, 2.140e+00, ..., 1.050e+00, 3.400e+00,\n",
              "         1.050e+03],\n",
              "        [1.316e+01, 2.360e+00, 2.670e+00, ..., 1.030e+00, 3.170e+00,\n",
              "         1.185e+03],\n",
              "        ...,\n",
              "        [1.327e+01, 4.280e+00, 2.260e+00, ..., 5.900e-01, 1.560e+00,\n",
              "         8.350e+02],\n",
              "        [1.317e+01, 2.590e+00, 2.370e+00, ..., 6.000e-01, 1.620e+00,\n",
              "         8.400e+02],\n",
              "        [1.413e+01, 4.100e+00, 2.740e+00, ..., 6.100e-01, 1.600e+00,\n",
              "         5.600e+02]]),\n",
              " 'target': array([0, 0, 0, 0, 0, 0, 0, 0, 0, 0, 0, 0, 0, 0, 0, 0, 0, 0, 0, 0, 0, 0,\n",
              "        0, 0, 0, 0, 0, 0, 0, 0, 0, 0, 0, 0, 0, 0, 0, 0, 0, 0, 0, 0, 0, 0,\n",
              "        0, 0, 0, 0, 0, 0, 0, 0, 0, 0, 0, 0, 0, 0, 0, 1, 1, 1, 1, 1, 1, 1,\n",
              "        1, 1, 1, 1, 1, 1, 1, 1, 1, 1, 1, 1, 1, 1, 1, 1, 1, 1, 1, 1, 1, 1,\n",
              "        1, 1, 1, 1, 1, 1, 1, 1, 1, 1, 1, 1, 1, 1, 1, 1, 1, 1, 1, 1, 1, 1,\n",
              "        1, 1, 1, 1, 1, 1, 1, 1, 1, 1, 1, 1, 1, 1, 1, 1, 1, 1, 1, 1, 2, 2,\n",
              "        2, 2, 2, 2, 2, 2, 2, 2, 2, 2, 2, 2, 2, 2, 2, 2, 2, 2, 2, 2, 2, 2,\n",
              "        2, 2, 2, 2, 2, 2, 2, 2, 2, 2, 2, 2, 2, 2, 2, 2, 2, 2, 2, 2, 2, 2,\n",
              "        2, 2]),\n",
              " 'frame': None,\n",
              " 'target_names': array(['class_0', 'class_1', 'class_2'], dtype='<U7'),\n",
              " 'DESCR': '.. _wine_dataset:\\n\\nWine recognition dataset\\n------------------------\\n\\n**Data Set Characteristics:**\\n\\n    :Number of Instances: 178\\n    :Number of Attributes: 13 numeric, predictive attributes and the class\\n    :Attribute Information:\\n \\t\\t- Alcohol\\n \\t\\t- Malic acid\\n \\t\\t- Ash\\n\\t\\t- Alcalinity of ash  \\n \\t\\t- Magnesium\\n\\t\\t- Total phenols\\n \\t\\t- Flavanoids\\n \\t\\t- Nonflavanoid phenols\\n \\t\\t- Proanthocyanins\\n\\t\\t- Color intensity\\n \\t\\t- Hue\\n \\t\\t- OD280/OD315 of diluted wines\\n \\t\\t- Proline\\n\\n    - class:\\n            - class_0\\n            - class_1\\n            - class_2\\n\\t\\t\\n    :Summary Statistics:\\n    \\n    ============================= ==== ===== ======= =====\\n                                   Min   Max   Mean     SD\\n    ============================= ==== ===== ======= =====\\n    Alcohol:                      11.0  14.8    13.0   0.8\\n    Malic Acid:                   0.74  5.80    2.34  1.12\\n    Ash:                          1.36  3.23    2.36  0.27\\n    Alcalinity of Ash:            10.6  30.0    19.5   3.3\\n    Magnesium:                    70.0 162.0    99.7  14.3\\n    Total Phenols:                0.98  3.88    2.29  0.63\\n    Flavanoids:                   0.34  5.08    2.03  1.00\\n    Nonflavanoid Phenols:         0.13  0.66    0.36  0.12\\n    Proanthocyanins:              0.41  3.58    1.59  0.57\\n    Colour Intensity:              1.3  13.0     5.1   2.3\\n    Hue:                          0.48  1.71    0.96  0.23\\n    OD280/OD315 of diluted wines: 1.27  4.00    2.61  0.71\\n    Proline:                       278  1680     746   315\\n    ============================= ==== ===== ======= =====\\n\\n    :Missing Attribute Values: None\\n    :Class Distribution: class_0 (59), class_1 (71), class_2 (48)\\n    :Creator: R.A. Fisher\\n    :Donor: Michael Marshall (MARSHALL%PLU@io.arc.nasa.gov)\\n    :Date: July, 1988\\n\\nThis is a copy of UCI ML Wine recognition datasets.\\nhttps://archive.ics.uci.edu/ml/machine-learning-databases/wine/wine.data\\n\\nThe data is the results of a chemical analysis of wines grown in the same\\nregion in Italy by three different cultivators. There are thirteen different\\nmeasurements taken for different constituents found in the three types of\\nwine.\\n\\nOriginal Owners: \\n\\nForina, M. et al, PARVUS - \\nAn Extendible Package for Data Exploration, Classification and Correlation. \\nInstitute of Pharmaceutical and Food Analysis and Technologies,\\nVia Brigata Salerno, 16147 Genoa, Italy.\\n\\nCitation:\\n\\nLichman, M. (2013). UCI Machine Learning Repository\\n[https://archive.ics.uci.edu/ml]. Irvine, CA: University of California,\\nSchool of Information and Computer Science. \\n\\n.. topic:: References\\n\\n  (1) S. Aeberhard, D. Coomans and O. de Vel, \\n  Comparison of Classifiers in High Dimensional Settings, \\n  Tech. Rep. no. 92-02, (1992), Dept. of Computer Science and Dept. of  \\n  Mathematics and Statistics, James Cook University of North Queensland. \\n  (Also submitted to Technometrics). \\n\\n  The data was used with many others for comparing various \\n  classifiers. The classes are separable, though only RDA \\n  has achieved 100% correct classification. \\n  (RDA : 100%, QDA 99.4%, LDA 98.9%, 1NN 96.1% (z-transformed data)) \\n  (All results using the leave-one-out technique) \\n\\n  (2) S. Aeberhard, D. Coomans and O. de Vel, \\n  \"THE CLASSIFICATION PERFORMANCE OF RDA\" \\n  Tech. Rep. no. 92-01, (1992), Dept. of Computer Science and Dept. of \\n  Mathematics and Statistics, James Cook University of North Queensland. \\n  (Also submitted to Journal of Chemometrics).\\n',\n",
              " 'feature_names': ['alcohol',\n",
              "  'malic_acid',\n",
              "  'ash',\n",
              "  'alcalinity_of_ash',\n",
              "  'magnesium',\n",
              "  'total_phenols',\n",
              "  'flavanoids',\n",
              "  'nonflavanoid_phenols',\n",
              "  'proanthocyanins',\n",
              "  'color_intensity',\n",
              "  'hue',\n",
              "  'od280/od315_of_diluted_wines',\n",
              "  'proline']}"
            ]
          },
          "metadata": {},
          "execution_count": 2
        }
      ],
      "source": [
        "# 1. data\n",
        "wine_data = load_wine()\n",
        "wine_data"
      ]
    },
    {
      "cell_type": "code",
      "source": [
        "# Make our df and X, y\n",
        "X = pd.DataFrame(data = wine_data[\"data\"],\n",
        "                 columns=wine_data[\"feature_names\"])\n",
        "X.head()\n",
        "len(X)\n",
        "\n",
        "y = wine_data[\"target\"]\n",
        "y[:10]\n",
        "\n",
        "df = X\n",
        "df[\"target\"] = y\n",
        "df.tail()\n",
        "\n",
        "df.info()\n",
        "\n",
        "df[\"target\"].value_counts()"
      ],
      "metadata": {
        "colab": {
          "base_uri": "https://localhost:8080/"
        },
        "id": "9Dgbdg767ZJ5",
        "outputId": "8228e4ee-a6c6-4fdf-9066-62c0aa2dfda0"
      },
      "execution_count": 8,
      "outputs": [
        {
          "output_type": "stream",
          "name": "stdout",
          "text": [
            "<class 'pandas.core.frame.DataFrame'>\n",
            "RangeIndex: 178 entries, 0 to 177\n",
            "Data columns (total 14 columns):\n",
            " #   Column                        Non-Null Count  Dtype  \n",
            "---  ------                        --------------  -----  \n",
            " 0   alcohol                       178 non-null    float64\n",
            " 1   malic_acid                    178 non-null    float64\n",
            " 2   ash                           178 non-null    float64\n",
            " 3   alcalinity_of_ash             178 non-null    float64\n",
            " 4   magnesium                     178 non-null    float64\n",
            " 5   total_phenols                 178 non-null    float64\n",
            " 6   flavanoids                    178 non-null    float64\n",
            " 7   nonflavanoid_phenols          178 non-null    float64\n",
            " 8   proanthocyanins               178 non-null    float64\n",
            " 9   color_intensity               178 non-null    float64\n",
            " 10  hue                           178 non-null    float64\n",
            " 11  od280/od315_of_diluted_wines  178 non-null    float64\n",
            " 12  proline                       178 non-null    float64\n",
            " 13  target                        178 non-null    int64  \n",
            "dtypes: float64(13), int64(1)\n",
            "memory usage: 19.6 KB\n"
          ]
        },
        {
          "output_type": "execute_result",
          "data": {
            "text/plain": [
              "target\n",
              "1    71\n",
              "0    59\n",
              "2    48\n",
              "Name: count, dtype: int64"
            ]
          },
          "metadata": {},
          "execution_count": 8
        }
      ]
    },
    {
      "cell_type": "code",
      "source": [
        "# 1. Data is ready\n",
        "\n",
        "# 2. Preprocessing is done\n",
        "\n",
        "# 3. X, y are ready.\n",
        "\n",
        "# 4. Split the data\n",
        "X_train, X_test, y_train, y_test = train_test_split(X,\n",
        "                                                    y,\n",
        "                                                    test_size=0.2,\n",
        "                                                    random_state=42)\n",
        "\n",
        "# 5. Make the model for regression purpose\n",
        "models = {\n",
        "    \"RFC\" : RandomForestClassifier(),\n",
        "    \"KNN\" : KNeighborsClassifier()\n",
        "}\n",
        "\n",
        "RFC_model = models[\"RFC\"]\n",
        "KNN_model = models[\"KNN\"]\n",
        "\n",
        "# 6. Fit our regression models with train data\n",
        "RFC_model.fit(X_train, y_train)\n",
        "KNN_model.fit(X_train, y_train)\n",
        "\n",
        "# 7. Make some prediction\n",
        "y_pred_rfc = RFC_model.predict(X_test)\n",
        "y_pred_knn = KNN_model.predict(X_test)\n",
        "\n",
        "# 8. Accuracy of regression models --> R2\n",
        "RFC_score = RFC_model.score(X_test, y_test)\n",
        "KNN_score = KNN_model.score(X_test, y_test)\n",
        "print(f\"The accuracy of RFC model is: {RFC_score*100:0.2f}% -- The accuracy of KNN model is: {KNN_score*100:0.2f}%\")"
      ],
      "metadata": {
        "colab": {
          "base_uri": "https://localhost:8080/"
        },
        "id": "Sz2G0Bg47v9G",
        "outputId": "b0969762-fa94-4880-b7f2-56daa04eb69e"
      },
      "execution_count": 9,
      "outputs": [
        {
          "output_type": "stream",
          "name": "stdout",
          "text": [
            "The accuracy of RFC model is: 100.00% -- The accuracy of KNN model is: 72.22%\n"
          ]
        }
      ]
    },
    {
      "cell_type": "code",
      "source": [
        "confusion_matrix(y_test, y_pred_knn)"
      ],
      "metadata": {
        "colab": {
          "base_uri": "https://localhost:8080/"
        },
        "id": "tgdeO-HO8sRY",
        "outputId": "69ce690f-35ab-4c37-d52b-abdf121550e1"
      },
      "execution_count": 12,
      "outputs": [
        {
          "output_type": "execute_result",
          "data": {
            "text/plain": [
              "array([[12,  0,  2],\n",
              "       [ 0, 11,  3],\n",
              "       [ 2,  3,  3]])"
            ]
          },
          "metadata": {},
          "execution_count": 12
        }
      ]
    },
    {
      "cell_type": "code",
      "source": [
        "from pprint import pprint\n",
        "\n",
        "print(classification_report(y_test, y_pred_rfc))"
      ],
      "metadata": {
        "colab": {
          "base_uri": "https://localhost:8080/"
        },
        "id": "1mi9bO5E9Zp5",
        "outputId": "667f1a72-f4ee-4bc4-cfa0-c87b6cb82c9d"
      },
      "execution_count": 15,
      "outputs": [
        {
          "output_type": "stream",
          "name": "stdout",
          "text": [
            "              precision    recall  f1-score   support\n",
            "\n",
            "           0       1.00      1.00      1.00        14\n",
            "           1       1.00      1.00      1.00        14\n",
            "           2       1.00      1.00      1.00         8\n",
            "\n",
            "    accuracy                           1.00        36\n",
            "   macro avg       1.00      1.00      1.00        36\n",
            "weighted avg       1.00      1.00      1.00        36\n",
            "\n"
          ]
        }
      ]
    },
    {
      "cell_type": "code",
      "source": [],
      "metadata": {
        "id": "kB16yueA9mg5"
      },
      "execution_count": null,
      "outputs": []
    }
  ],
  "metadata": {
    "colab": {
      "provenance": [],
      "authorship_tag": "ABX9TyMPQqkaZNxs/d4EVVZpPGL/",
      "include_colab_link": true
    },
    "kernelspec": {
      "display_name": "Python 3",
      "name": "python3"
    },
    "language_info": {
      "name": "python"
    }
  },
  "nbformat": 4,
  "nbformat_minor": 0
}