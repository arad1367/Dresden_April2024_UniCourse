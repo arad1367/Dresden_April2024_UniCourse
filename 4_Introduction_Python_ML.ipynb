{
  "nbformat": 4,
  "nbformat_minor": 0,
  "metadata": {
    "colab": {
      "provenance": [],
      "authorship_tag": "ABX9TyMZb8Z2irIR9Z7AQo62dLSO",
      "include_colab_link": true
    },
    "kernelspec": {
      "name": "python3",
      "display_name": "Python 3"
    },
    "language_info": {
      "name": "python"
    }
  },
  "cells": [
    {
      "cell_type": "markdown",
      "metadata": {
        "id": "view-in-github",
        "colab_type": "text"
      },
      "source": [
        "<a href=\"https://colab.research.google.com/github/arad1367/Dresden_April2024_UniCourse/blob/main/4_Introduction_Python_ML.ipynb\" target=\"_parent\"><img src=\"https://colab.research.google.com/assets/colab-badge.svg\" alt=\"Open In Colab\"/></a>"
      ]
    },
    {
      "cell_type": "markdown",
      "source": [
        "### Object-oriented programming (OOP)\n",
        "\n",
        "* OOP is a programming paradigm that uses `objects` to represent real-world entities and their behaviors. It is a programming approach that is based on the concept of objects, which are `instances of classes`. OOP allows for the creation of reusable code and makes it easier to organize and maintain complex programs. It is widely used in software development and is a fundamental concept in computer science."
      ],
      "metadata": {
        "id": "TFuQ-B1H5wpN"
      }
    },
    {
      "cell_type": "markdown",
      "source": [
        "### 1. Define a class\n",
        ">  * Class name is singular not plural\n",
        " * instantiate mean call a class to create an object\n",
        " * self make our program dynamic"
      ],
      "metadata": {
        "id": "fXKXJDSz6FRg"
      }
    },
    {
      "cell_type": "code",
      "source": [
        "# Define our simple profile class\n",
        "class Profile:\n",
        "  # Constructor\n",
        "  def __init__(self, name, age):  # attributes are defined inside of __init__\n",
        "    self.name = name\n",
        "    self.age = age\n",
        "\n",
        "  # method\n",
        "  def introduction(self):\n",
        "    return f\"Welcome dear {self.name}\"\n",
        "\n",
        "\n",
        "# Make some objects from Profile class\n",
        "person1 = Profile(name=\"Pejman\", age=30) # person 1 is an object that is instantiated from profile class.\n",
        "person1.name  # Use of attribute\n",
        "person1.introduction() # use of our method\n",
        "\n",
        "person2 = Profile(\"Sara\", 27)\n",
        "person2.introduction()"
      ],
      "metadata": {
        "id": "3uAZxrFFMQAA",
        "colab": {
          "base_uri": "https://localhost:8080/",
          "height": 36
        },
        "outputId": "db051af2-2503-42d6-a8cc-0add9649bf9b"
      },
      "execution_count": null,
      "outputs": [
        {
          "output_type": "execute_result",
          "data": {
            "text/plain": [
              "'Welcome dear Sara'"
            ],
            "application/vnd.google.colaboratory.intrinsic+json": {
              "type": "string"
            }
          },
          "metadata": {},
          "execution_count": 55
        }
      ]
    },
    {
      "cell_type": "markdown",
      "source": [
        "### 2. Important keywords in OOP\n",
        "- `A. Encapsulation`\n",
        "  * \"\"\" Encapsulation in OOP is like packaging data and methods together in a box (class),\n",
        "where you control access to what's inside. It's about keeping some parts hidden (private),\n",
        "and only allowing interaction through specified methods (public).\n",
        "This way, you can protect the data and ensure it's used correctly. \"\"\"\n",
        "\n",
        "- `B. Abstraction`\n",
        "  * \"\"\"\n",
        "Abstraction in OOP means simplifying complex things by only showing what's necessary,\n",
        " hiding the details. It's like using a TV remote without knowing how it works inside;\n",
        "   you just press buttons to change channels or adjust volume. Similarly, in programming,\n",
        "   you interact with objects without needing to understand every detail of how they're implemented,\n",
        "     focusing only on what they do.\n",
        "\"\"\"\n",
        "\n",
        "- `C. Inheritance`\n",
        "  * \"\"\"inheritance is a mechanism that allows a class to inherit properties and behaviors from another class. \"\"\"\n",
        "\n",
        "- `D. Polymorphism`\n",
        "  * \"\"\" Polymorphism is a key concept in OOP that allows objects of different classes to be treated as if they were of the same class. This enables method overriding, method overloading, and dynamic binding. Polymorphism allows for more flexibility and versatility in code, and makes it easier to write and maintain OOP applications.\"\"\""
      ],
      "metadata": {
        "id": "eqktyw6k9AeH"
      }
    },
    {
      "cell_type": "markdown",
      "source": [
        "### 3. Inheritance & Polymorphism\n",
        "  * https://www.w3schools.com/python/python_classes.asp"
      ],
      "metadata": {
        "id": "qP6WY6PB9sny"
      }
    },
    {
      "cell_type": "code",
      "source": [
        "# 0. Parent class -> University class\n",
        "class University:\n",
        "  # Parent class constructor\n",
        "  def __init__(self, rule):\n",
        "    self.rule = rule\n",
        "\n",
        "  # A method for parent class\n",
        "  def about(self):\n",
        "    return \"We support innovation and entrepreneurship.\"\n",
        "\n",
        "\n",
        "# 1. First child class\n",
        "class BusinessSchool(University):\n",
        "  # Child class constructor\n",
        "  def __init__(self, student, rule):\n",
        "    # super()  -> can help us in access to attributes of parent class\n",
        "    super().__init__(rule)\n",
        "    self.student = student\n",
        "\n",
        "  # A method for child class\n",
        "  def instruction(self):\n",
        "    return f\"Welcome dear {self.student}. Please check University's rule: {self.rule}\"\n",
        "\n",
        "\n",
        "# 2. Second child class\n",
        "class MedicalSchool(University):\n",
        "  def __init__(self, courses, rule):\n",
        "    super().__init__(rule)\n",
        "    self.courses = courses\n",
        "\n",
        "  def instruction(self):\n",
        "    return f\"You have {self.courses} courses. Please check University's rule: {self.rule}\"\n",
        "\n",
        "\n",
        "# object related to parent class\n",
        "object1 = University(rule = \"Please check code of conduct in our website.\") # object related to parent class\n",
        "object1.about()\n",
        "\n",
        "# Some objects related to child classes\n",
        "object2 = BusinessSchool(student=\"Elina\", rule = \"Please check code of conduct in our website.\") # First child class\n",
        "object3 = MedicalSchool(94, \"Please check code of conduct in our website.\") # Second child class\n",
        "\n",
        "print(object2.instruction())\n",
        "print(object3.instruction())"
      ],
      "metadata": {
        "id": "Z2XeFwg38BA3",
        "colab": {
          "base_uri": "https://localhost:8080/"
        },
        "outputId": "f4ce6c15-2137-45c2-90cf-2fc2e3f930af"
      },
      "execution_count": null,
      "outputs": [
        {
          "output_type": "stream",
          "name": "stdout",
          "text": [
            "Welcome dear Elina. Please check University's rule: Please check code of conduct in our website.\n",
            "You have 94 courses. Please check University's rule: Please check code of conduct in our website.\n"
          ]
        }
      ]
    },
    {
      "cell_type": "markdown",
      "source": [
        "### 4. List & Dictionary comprehension"
      ],
      "metadata": {
        "id": "iapOVSKhFEq3"
      }
    },
    {
      "cell_type": "code",
      "source": [
        "# Use solution without list comprehension\n",
        "my_list = [1, 2, 3, 4, 5, 6, 7, 8]\n",
        "\n",
        "# Find even numbers -> 2, 4, 6, 8\n",
        "even_numbers = []\n",
        "for num in my_list:\n",
        "  if num % 2 ==0:\n",
        "    even_numbers.append(num)\n",
        "even_numbers\n",
        "\n",
        "# Use list comprehension\n",
        "even_list = [number for number in my_list if number % 2 == 0]\n",
        "even_list\n",
        "\n",
        "# Dictionary comprehension\n",
        "my_dictionary = {\n",
        "    'a':1,\n",
        "    'b':2,\n",
        "    'c':3\n",
        "}\n",
        "\n",
        "dictionary_comprehension = {key:value for key, value in my_dictionary.items() if my_dictionary[key] % 2 != 0}\n",
        "dictionary_comprehension"
      ],
      "metadata": {
        "id": "-dxUQlV7DK3R",
        "colab": {
          "base_uri": "https://localhost:8080/"
        },
        "outputId": "69cb1520-82c8-4871-be2d-a434c157fd31"
      },
      "execution_count": 60,
      "outputs": [
        {
          "output_type": "execute_result",
          "data": {
            "text/plain": [
              "{'a': 1, 'c': 3}"
            ]
          },
          "metadata": {},
          "execution_count": 60
        }
      ]
    },
    {
      "cell_type": "markdown",
      "source": [
        "### 5. Error handling in Python\n",
        "> * IndexError, KeyError, NameError, AttributeError\n",
        " * All built-in exceptions: https://docs.python.org/3/library/exceptions.html"
      ],
      "metadata": {
        "id": "an5dndIIGzFo"
      }
    },
    {
      "cell_type": "code",
      "source": [
        "while True:\n",
        "  try:\n",
        "    number = int(input(\"Please enter a number: \"))\n",
        "  except ValueError as err:\n",
        "    print(err)\n",
        "    print(\"You can just use numbers. Try again!\")\n",
        "  else:\n",
        "    print(f\"My selected number is {number}.\")\n",
        "    print(\"Done! Good job!\")\n",
        "    break"
      ],
      "metadata": {
        "id": "fR4mS2ifFTrG",
        "colab": {
          "base_uri": "https://localhost:8080/"
        },
        "outputId": "d443ea95-69e2-46c6-e373-43e7328ec422"
      },
      "execution_count": 65,
      "outputs": [
        {
          "output_type": "stream",
          "name": "stdout",
          "text": [
            "Please enter a number: Pejman\n",
            "invalid literal for int() with base 10: 'Pejman'\n",
            "You can just use numbers. Try again!\n",
            "Please enter a number: kkkk\n",
            "invalid literal for int() with base 10: 'kkkk'\n",
            "You can just use numbers. Try again!\n",
            "Please enter a number: bbbb\n",
            "invalid literal for int() with base 10: 'bbbb'\n",
            "You can just use numbers. Try again!\n",
            "Please enter a number: 6\n",
            "My selected number is 6.\n",
            "Done! Good job!\n"
          ]
        }
      ]
    },
    {
      "cell_type": "code",
      "source": [
        "try:\n",
        "  number1 = int(input(\"First number: \"))\n",
        "  number2 = int(input(\"Second number: \"))\n",
        "  result = number1 / number2\n",
        "except (ZeroDivisionError, ValueError):\n",
        "  print(\"Rules: 1.The second number can not be 0 in division operation. 2. Use just numbers an not str\")\n",
        "else:\n",
        "  print(f\"{number1} / {number2} = {result}\")\n",
        "  print(\"Done!\")"
      ],
      "metadata": {
        "colab": {
          "base_uri": "https://localhost:8080/"
        },
        "id": "ww_lzr_PpXyT",
        "outputId": "3e704e03-9450-442e-bd86-ef14aa326aee"
      },
      "execution_count": 71,
      "outputs": [
        {
          "output_type": "stream",
          "name": "stdout",
          "text": [
            "First number: 55\n",
            "Second number: pejman\n",
            "Rules: 1.The second number can not be 0 in division operation. 2. Use just numbers an not str\n"
          ]
        }
      ]
    },
    {
      "cell_type": "markdown",
      "source": [
        "### Modules in Python\n",
        "* link to pypi: https://pypi.org/\n"
      ],
      "metadata": {
        "id": "ZpPgFUtCJyJJ"
      }
    },
    {
      "cell_type": "code",
      "source": [
        "import random  # random is a module\n",
        "import time\n",
        "\n",
        "# produce some random numbers\n",
        "random.randint(1, 100)\n",
        "\n",
        "# Select a number from a list\n",
        "chance_numbers = [1, 100, 1000, 10000]\n",
        "selected_number = random.choice(chance_numbers)\n",
        "selected_number\n",
        "\n",
        "# Write a simple code\n",
        "def iteration(bound):\n",
        "  for i in range(bound):\n",
        "    print(i)\n",
        "\n",
        "start_time = time.time()\n",
        "iteration(10)\n",
        "end_time = time.time()\n",
        "print(f\"It took {end_time - start_time} s\")"
      ],
      "metadata": {
        "id": "hVtTHejMKc-U",
        "colab": {
          "base_uri": "https://localhost:8080/"
        },
        "outputId": "ea35834a-f1e8-400f-f501-d24a8709500f"
      },
      "execution_count": 78,
      "outputs": [
        {
          "output_type": "stream",
          "name": "stdout",
          "text": [
            "0\n",
            "1\n",
            "2\n",
            "3\n",
            "4\n",
            "5\n",
            "6\n",
            "7\n",
            "8\n",
            "9\n",
            "It took 0.004233121871948242 s\n"
          ]
        }
      ]
    },
    {
      "cell_type": "code",
      "source": [
        "!pip install tqdm"
      ],
      "metadata": {
        "colab": {
          "base_uri": "https://localhost:8080/"
        },
        "id": "mW6Y8AC5q_9H",
        "outputId": "1c6645ae-5d9a-48c8-8a04-f176de7a4ccc"
      },
      "execution_count": 79,
      "outputs": [
        {
          "output_type": "stream",
          "name": "stdout",
          "text": [
            "Requirement already satisfied: tqdm in /usr/local/lib/python3.10/dist-packages (4.66.2)\n"
          ]
        }
      ]
    },
    {
      "cell_type": "code",
      "source": [
        "import tqdm\n",
        "from tqdm import tqdm"
      ],
      "metadata": {
        "id": "ppgIQxJdshbk"
      },
      "execution_count": 80,
      "outputs": []
    },
    {
      "cell_type": "code",
      "source": [
        "# Use custom module and methods\n",
        "from calculator import add, sub\n",
        "import calculator"
      ],
      "metadata": {
        "id": "nuIZTqI-srpv"
      },
      "execution_count": 81,
      "outputs": []
    },
    {
      "cell_type": "code",
      "source": [
        "print(calculator.multiply(10, 10))"
      ],
      "metadata": {
        "colab": {
          "base_uri": "https://localhost:8080/"
        },
        "id": "_97h0bm9taHT",
        "outputId": "4f2a0514-358e-4a7e-b203-5f74f3d7c98f"
      },
      "execution_count": 84,
      "outputs": [
        {
          "output_type": "stream",
          "name": "stdout",
          "text": [
            "100\n"
          ]
        }
      ]
    },
    {
      "cell_type": "code",
      "source": [
        "# print(add(10, 10))"
      ],
      "metadata": {
        "colab": {
          "base_uri": "https://localhost:8080/"
        },
        "id": "jlRywXf3tNFg",
        "outputId": "269062d6-7e05-430e-b04a-397ab4128ab0"
      },
      "execution_count": 82,
      "outputs": [
        {
          "output_type": "stream",
          "name": "stdout",
          "text": [
            "20\n"
          ]
        }
      ]
    },
    {
      "cell_type": "code",
      "source": [
        "# print(sub(33, 11))"
      ],
      "metadata": {
        "colab": {
          "base_uri": "https://localhost:8080/"
        },
        "id": "G7CZaLiGtRcM",
        "outputId": "1e9ff314-9a49-405c-bc7c-31484350946a"
      },
      "execution_count": 83,
      "outputs": [
        {
          "output_type": "stream",
          "name": "stdout",
          "text": [
            "22\n"
          ]
        }
      ]
    },
    {
      "cell_type": "code",
      "source": [],
      "metadata": {
        "id": "H-sQ-tFqtVAC"
      },
      "execution_count": null,
      "outputs": []
    }
  ]
}