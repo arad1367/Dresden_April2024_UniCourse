{
  "nbformat": 4,
  "nbformat_minor": 0,
  "metadata": {
    "colab": {
      "provenance": [],
      "authorship_tag": "ABX9TyMSD8k4Zc4bQexdPjGVC0T+",
      "include_colab_link": true
    },
    "kernelspec": {
      "name": "python3",
      "display_name": "Python 3"
    },
    "language_info": {
      "name": "python"
    }
  },
  "cells": [
    {
      "cell_type": "markdown",
      "metadata": {
        "id": "view-in-github",
        "colab_type": "text"
      },
      "source": [
        "<a href=\"https://colab.research.google.com/github/arad1367/Dresden_April2024_UniCourse/blob/main/3_Introduction_Python_ML.ipynb\" target=\"_parent\"><img src=\"https://colab.research.google.com/assets/colab-badge.svg\" alt=\"Open In Colab\"/></a>"
      ]
    },
    {
      "cell_type": "markdown",
      "source": [
        "### Exercise 1: Return unique values\n",
        " - You can not use sets, list is permitted.\n",
        "\n",
        "* my_list = [7, 100, 1, 1, 1, 2, 3, 4, 5, 5, 5]\n",
        "* output = [1, 2, 3, 4, 5, 7, 100]"
      ],
      "metadata": {
        "id": "6r5ILDHdV-Wk"
      }
    },
    {
      "cell_type": "code",
      "source": [
        "my_list = [7, 100, 1, 1, 1, 2, 3, 4, 5, 5, 5]\n",
        "\n",
        "# Define an empty list that can show unique values\n",
        "unique_list = []\n",
        "\n",
        "# I need an iteration on my_list\n",
        "for number in my_list:   # Iteration on list\n",
        "  if number not in unique_list:  # check the number is available in unique list or not\n",
        "    unique_list.append(number)   # add just unique values\n",
        "    # unique_list.sort()\n",
        "    unique_list = sorted(unique_list)  # Sort my list\n",
        "\n",
        "unique_list"
      ],
      "metadata": {
        "id": "4DsnYamCV-Bp",
        "colab": {
          "base_uri": "https://localhost:8080/"
        },
        "outputId": "3a8fdd92-6265-4009-ef04-2ee53bf2b89c"
      },
      "execution_count": 3,
      "outputs": [
        {
          "output_type": "execute_result",
          "data": {
            "text/plain": [
              "[1, 2, 3, 4, 5, 7, 100]"
            ]
          },
          "metadata": {},
          "execution_count": 3
        }
      ]
    },
    {
      "cell_type": "markdown",
      "source": [
        "### Exercise 2: BMI calculator\n",
        "\n",
        "> Assume you have a list of individuals, where each individual is represented as a tuple containing their name, weight in kilograms, and height in meters.\n",
        "\n",
        "- BMI = weights / height ** 2\n",
        "- Categorize each individual based on their BMI:\n",
        " * BMI < 18.5: Underweight\n",
        " * 18.5 ≤ BMI < 25: Normal weight\n",
        " * 25 ≤ BMI < 30: Overweight\n",
        " * BMI ≥ 30: Obese\n",
        "\n",
        "- Print out each individual's name, BMI, and weight category in a dictionary format."
      ],
      "metadata": {
        "id": "FDn5ck5cVtHg"
      }
    },
    {
      "cell_type": "code",
      "execution_count": 7,
      "metadata": {
        "id": "FLw6I8b1ThN6",
        "colab": {
          "base_uri": "https://localhost:8080/"
        },
        "outputId": "3511fd85-a388-4a31-a1d6-440aee2e0ad3"
      },
      "outputs": [
        {
          "output_type": "execute_result",
          "data": {
            "text/plain": [
              "{'name_1': 'Jack',\n",
              " 'bmi_1': 24.69,\n",
              " 'category_1': 'Normal weight',\n",
              " 'name_2': 'Sofia',\n",
              " 'bmi_2': 18.59,\n",
              " 'category_2': 'Normal weight',\n",
              " 'name_3': 'Bob',\n",
              " 'bmi_3': 31.21,\n",
              " 'category_3': 'Obese',\n",
              " 'name_4': 'Elina',\n",
              " 'bmi_4': 27.29,\n",
              " 'category_4': 'Overweight'}"
            ]
          },
          "metadata": {},
          "execution_count": 7
        }
      ],
      "source": [
        "my_BMI = [\n",
        "    (\"Jack\", 80, 1.80),\n",
        "    (\"Sofia\", 55, 1.72),\n",
        "    (\"Bob\", 100, 1.79),\n",
        "    (\"Elina\", 69, 1.59)\n",
        "]\n",
        "\n",
        "# 1. Define an empty dictionary\n",
        "output_dictionary = {}\n",
        "counter = 1\n",
        "\n",
        "# 2. Iterate on my_BMI list\n",
        "for name, weight, height in my_BMI:\n",
        "  # 3. Calculate bmi value in every iteration\n",
        "  bmi = round(weight / height ** 2, 2)\n",
        "\n",
        "  # 4. Check different conditions for different bmi values\n",
        "  if bmi < 18.5:\n",
        "    output_dictionary[f\"name_{counter}\"] = name\n",
        "    output_dictionary[f\"bmi_{counter}\"] = bmi\n",
        "    output_dictionary[f\"category_{counter}\"] = \"Underweight\"\n",
        "  elif 18.5 <= bmi < 25:\n",
        "    output_dictionary[f\"name_{counter}\"] = name\n",
        "    output_dictionary[f\"bmi_{counter}\"] = bmi\n",
        "    output_dictionary[f\"category_{counter}\"] = \"Normal weight\"\n",
        "  elif 25 <= bmi < 30:\n",
        "    output_dictionary[f\"name_{counter}\"] = name\n",
        "    output_dictionary[f\"bmi_{counter}\"] = bmi\n",
        "    output_dictionary[f\"category_{counter}\"] = \"Overweight\"\n",
        "  else:\n",
        "    output_dictionary[f\"name_{counter}\"] = name\n",
        "    output_dictionary[f\"bmi_{counter}\"] = bmi\n",
        "    output_dictionary[f\"category_{counter}\"] = \"Obese\"\n",
        "  counter += 1 # counter = counter + 1\n",
        "\n",
        "output_dictionary"
      ]
    },
    {
      "cell_type": "markdown",
      "source": [
        "### 1. Python Functions\n",
        "\n",
        "* A function is a block of code that performs a specific task. Suppose we need to create a program to make a circle and color it."
      ],
      "metadata": {
        "id": "hHI6QIMZlH3r"
      }
    },
    {
      "cell_type": "markdown",
      "source": [
        "### 2. Define a function"
      ],
      "metadata": {
        "id": "4w1-_h0jsv-6"
      }
    },
    {
      "cell_type": "code",
      "source": [
        "# Define a function\n",
        "def welcome(city:str) -> str:  # parameters define inside of ()  # you can define parameters type (optional)\n",
        "  name = input(\"What is your name? \")\n",
        "  return f\"Dear {name}, welcome to {city}!\"\n",
        "\n",
        "# Call the function\n",
        "welcome(\"Budapest\")"
      ],
      "metadata": {
        "id": "vlCdmeYnkOlK",
        "colab": {
          "base_uri": "https://localhost:8080/",
          "height": 54
        },
        "outputId": "ba36f4d4-912d-4ae2-96e8-7d2b51583c29"
      },
      "execution_count": 12,
      "outputs": [
        {
          "name": "stdout",
          "output_type": "stream",
          "text": [
            "What is your name? Pejman\n"
          ]
        },
        {
          "output_type": "execute_result",
          "data": {
            "text/plain": [
              "'Dear Pejman, welcome to Budapest!'"
            ],
            "application/vnd.google.colaboratory.intrinsic+json": {
              "type": "string"
            }
          },
          "metadata": {},
          "execution_count": 12
        }
      ]
    },
    {
      "cell_type": "markdown",
      "source": [
        "### 3. Parameters & Arguments\n",
        "  * positional argument\n",
        "  * keyword argument"
      ],
      "metadata": {
        "id": "Aiclw7SmtW35"
      }
    },
    {
      "cell_type": "code",
      "source": [
        "def biography(name=\"John\", age=23, education=\"Diploma\"): # Parameters\n",
        "  \"\"\"\n",
        "  This function can simple receive your information and print them.\n",
        "  \"\"\"\n",
        "  return f\"name: {name}  | age: {age}  | education: {education}\"\n",
        "\n",
        "# call function with positional argument  ->  order is matter\n",
        "# print(biography(\"Bob\", 19, \"Diploma\")) # Arguments\n",
        "\n",
        "# call function with keyword argument -> order does not matter\n",
        "print(biography(education=\"Master\", name=\"Sara\", age=27)) # Arguments\n",
        "\n",
        "# Use default parameters\n",
        "print(biography(age=33))"
      ],
      "metadata": {
        "id": "sej0GLx6tKM3",
        "colab": {
          "base_uri": "https://localhost:8080/"
        },
        "outputId": "db39c6d9-415a-43d1-9c10-eb946e18d2e8"
      },
      "execution_count": 16,
      "outputs": [
        {
          "output_type": "stream",
          "name": "stdout",
          "text": [
            "name: Sara  | age: 27  | education: Master\n",
            "name: John  | age: 33  | education: Diploma\n"
          ]
        }
      ]
    },
    {
      "cell_type": "markdown",
      "source": [
        "### 4. Function with default parameters & annotation\n",
        "\n",
        "  > FizzBuzz function: A fizzbuzz function is a programming function that takes an input value and returns a string representation of that value. The function uses a simple conditional statement to check if the input value is a multiple of 3, 5, or if it is a multiple of both 3 and 5. For multiples of 3, the string \"Fizz\" is returned, 5 is \"buzz\", for multiples of both 3 and 5, the string \"FizzBuzz\" is returned, and for all other values, the input value is returned as a string. The FizzBuzz function is often used as a simple exercise to test coding skills and can be implemented in a variety of programming languages."
      ],
      "metadata": {
        "id": "DLLrODZLu3un"
      }
    },
    {
      "cell_type": "code",
      "source": [
        "# Let's create a fizzbuzz function\n",
        "def fizzbuzz(bound:int):\n",
        "  \"\"\"\n",
        "  FizzBuzz function\n",
        "  Output example:\n",
        "  1, 2, Fizz, 4, Buzz ... 13, 14, FizzBuzz\n",
        "\n",
        "  bound : the range of my loop --> (1, bound)\n",
        "  \"\"\"\n",
        "  for num in range(1, bound):\n",
        "    if num % 3 == 0 and num % 5 == 0:\n",
        "      print(\"FizzBuzz\")\n",
        "    elif num % 3 == 0:\n",
        "      print(\"Fizz\")\n",
        "    elif num % 5 == 0:\n",
        "      print(\"Buzz\")\n",
        "    else:\n",
        "      print(num)\n",
        "\n",
        "# how to see annotation\n",
        "fizzbuzz.__doc__\n",
        "\n",
        "# call the function\n",
        "fizzbuzz(16)"
      ],
      "metadata": {
        "id": "1uVlMUgIuJ-o",
        "colab": {
          "base_uri": "https://localhost:8080/"
        },
        "outputId": "9bb5627d-142d-48c4-fda5-45249acf209f"
      },
      "execution_count": 20,
      "outputs": [
        {
          "output_type": "stream",
          "name": "stdout",
          "text": [
            "1\n",
            "2\n",
            "Fizz\n",
            "4\n",
            "Buzz\n",
            "Fizz\n",
            "7\n",
            "8\n",
            "Fizz\n",
            "Buzz\n",
            "11\n",
            "Fizz\n",
            "13\n",
            "14\n",
            "FizzBuzz\n"
          ]
        }
      ]
    },
    {
      "cell_type": "markdown",
      "source": [
        "### 5. `*args`  &&   `**kwargs`\n",
        "  * super_sum function with many numbers\n",
        "  * super_sum function -> list as a input\n",
        "  * super_sum gunction with **kwargs\n",
        "\n",
        "> *args (Non-Keyword Arguments)\n",
        "**kwargs (Keyword Arguments)"
      ],
      "metadata": {
        "id": "oCdizmIoxzVg"
      }
    },
    {
      "cell_type": "code",
      "source": [
        "# 1. Define a simple sum function\n",
        "def sum_numbers(a, b):\n",
        "  return a + b\n",
        "\n",
        "# sum_numbers(10, 10)\n",
        "\n",
        "\n",
        "# 2. Define a function that can receive many numbers and calculate sum\n",
        "def super_sum(*args:int) -> int:\n",
        "  total = 0\n",
        "  for number in args:\n",
        "    total += number\n",
        "  return total\n",
        "\n",
        "# print(super_sum(1, 2, 3, 4, 5, 10))  # expected output is 25\n",
        "\n",
        "\n",
        "# 3. What if my input is a list?\n",
        "numbers_list = [10, 10, 10, 10, 1000] # expected output is 40\n",
        "\n",
        "def super_sum2(*args:list) -> int:\n",
        "  \"\"\"\n",
        "  This function receives a list of numbers and return total sum.\n",
        "  \"\"\"\n",
        "  total = 0\n",
        "  for num in args:\n",
        "    total += num\n",
        "  return total\n",
        "\n",
        "# differences is here when you want to call function\n",
        "# print(super_sum2(*numbers_list))\n",
        "\n",
        "\n",
        "# 4. **kwargs\n",
        "# web development >>> database model > Django\n",
        "def super_sum3(*args, **kwargs):\n",
        "  # a. total of args\n",
        "  sum_args = 0\n",
        "  for num in args:\n",
        "    sum_args += num\n",
        "\n",
        "  # b. total of kwargs\n",
        "  sum_kwargs = 0\n",
        "  for value in kwargs.values():\n",
        "    sum_kwargs += value\n",
        "\n",
        "  # c. total = sum_args + sum_kwargs\n",
        "  total = sum_args + sum_kwargs\n",
        "  return f\"Total args: {sum_args} --- Total kwargs: {sum_kwargs} ---  Final Total: {total}\"\n",
        "\n",
        "# call the function\n",
        "print(super_sum3(1, 2, 3, x=20, y=30))"
      ],
      "metadata": {
        "id": "NigX30Gjy72X",
        "colab": {
          "base_uri": "https://localhost:8080/"
        },
        "outputId": "ce0defa3-f0fb-4f75-89ac-392a51e582fa"
      },
      "execution_count": 29,
      "outputs": [
        {
          "output_type": "stream",
          "name": "stdout",
          "text": [
            "Total args: 6 --- Total kwargs: 50 ---  Final Total: 56\n"
          ]
        }
      ]
    },
    {
      "cell_type": "markdown",
      "source": [
        "### 6. Scope in Python\n",
        "  * global scope\n",
        "  * local scope"
      ],
      "metadata": {
        "id": "Sd5R-o7M9vGB"
      }
    },
    {
      "cell_type": "code",
      "source": [
        "# global variable\n",
        "x = 100\n",
        "x = 30\n",
        "\n",
        "def special_number(number):\n",
        "  # x = 50   # local variable\n",
        "  global x # It is not suggested\n",
        "  return x + number\n",
        "\n",
        "\n",
        "print(special_number(30))"
      ],
      "metadata": {
        "id": "4oxZfDLJ4OJK",
        "colab": {
          "base_uri": "https://localhost:8080/"
        },
        "outputId": "90d9b709-eff9-47e2-f5a8-3a04bec4c6f6"
      },
      "execution_count": 32,
      "outputs": [
        {
          "output_type": "stream",
          "name": "stdout",
          "text": [
            "60\n"
          ]
        }
      ]
    },
    {
      "cell_type": "markdown",
      "source": [
        "### Note: string methods"
      ],
      "metadata": {
        "id": "9R_QPhjtFgsl"
      }
    },
    {
      "cell_type": "code",
      "source": [
        "statement = \"ich bin Pejman. Deutschland. sssssssssss\"\n",
        "\n",
        "statement.capitalize()\n",
        "statement.upper()\n",
        "statement.split(\".\")\n",
        "statement.count(\"s\")\n",
        "\n",
        "# convert a list to string\n",
        "statement_list = [\"I come from Budapest\"]\n",
        "list_to_str = \"\".join(statement_list)\n",
        "list_to_str\n",
        "type(list_to_str)"
      ],
      "metadata": {
        "id": "fjjwiEvFFlke",
        "colab": {
          "base_uri": "https://localhost:8080/"
        },
        "outputId": "7d01b03d-0f73-4fa0-bf5f-2421809c56ca"
      },
      "execution_count": 41,
      "outputs": [
        {
          "output_type": "execute_result",
          "data": {
            "text/plain": [
              "str"
            ]
          },
          "metadata": {},
          "execution_count": 41
        }
      ]
    },
    {
      "cell_type": "markdown",
      "source": [
        "### Exercise: Write a custom function"
      ],
      "metadata": {
        "id": "2m6sDAepGuFk"
      }
    },
    {
      "cell_type": "code",
      "source": [],
      "metadata": {
        "id": "THLEG0_XEDdd"
      },
      "execution_count": null,
      "outputs": []
    },
    {
      "cell_type": "markdown",
      "source": [
        "### More Exercises\n",
        " * https://github.com/darkprinx/break-the-ice-with-python"
      ],
      "metadata": {
        "id": "xTY29FRUSXV3"
      }
    },
    {
      "cell_type": "code",
      "source": [],
      "metadata": {
        "id": "b7kUQbZqScG7"
      },
      "execution_count": null,
      "outputs": []
    },
    {
      "cell_type": "markdown",
      "source": [
        "* pejman.ebrahimi@gmail.com\n",
        "* info@giltech-support.co.uk\n",
        "* https://www.giltech-megoldasok.com/\n",
        "* https://www.world-academies.com/"
      ],
      "metadata": {
        "id": "8a_K9YoZovP1"
      }
    },
    {
      "cell_type": "code",
      "source": [],
      "metadata": {
        "id": "dze8g5fdpADQ"
      },
      "execution_count": null,
      "outputs": []
    }
  ]
}